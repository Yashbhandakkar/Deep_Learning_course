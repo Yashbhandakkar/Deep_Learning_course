{
  "nbformat": 4,
  "nbformat_minor": 0,
  "metadata": {
    "colab": {
      "provenance": [],
      "gpuType": "T4",
      "authorship_tag": "ABX9TyOLy8fIAlVjNEk29szjN68D",
      "include_colab_link": true
    },
    "kernelspec": {
      "name": "python3",
      "display_name": "Python 3"
    },
    "language_info": {
      "name": "python"
    },
    "accelerator": "GPU"
  },
  "cells": [
    {
      "cell_type": "markdown",
      "metadata": {
        "id": "view-in-github",
        "colab_type": "text"
      },
      "source": [
        "<a href=\"https://colab.research.google.com/github/Yashbhandakkar/Deep_Learning_course/blob/main/dl_pytorch.ipynb\" target=\"_parent\"><img src=\"https://colab.research.google.com/assets/colab-badge.svg\" alt=\"Open In Colab\"/></a>"
      ]
    },
    {
      "cell_type": "code",
      "execution_count": null,
      "metadata": {
        "id": "re8uLaamWg8v"
      },
      "outputs": [],
      "source": [
        "#chalo bhaiya lets start"
      ]
    },
    {
      "cell_type": "markdown",
      "source": [
        "# DeepLearning using pytorch"
      ],
      "metadata": {
        "id": "ebAdIiO-Wttv"
      }
    },
    {
      "cell_type": "code",
      "source": [
        "import torch\n"
      ],
      "metadata": {
        "id": "NPSM2WajW0X4"
      },
      "execution_count": 1,
      "outputs": []
    },
    {
      "cell_type": "code",
      "source": [
        "\n"
      ],
      "metadata": {
        "id": "5LRLbEbGYnhu"
      },
      "execution_count": 1,
      "outputs": []
    },
    {
      "cell_type": "code",
      "source": [],
      "metadata": {
        "id": "H2Umg_OwZCGQ"
      },
      "execution_count": null,
      "outputs": []
    }
  ]
}